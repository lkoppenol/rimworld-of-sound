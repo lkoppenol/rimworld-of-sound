{
 "cells": [
  {
   "cell_type": "markdown",
   "id": "e236cf47",
   "metadata": {},
   "source": [
    "# Import libraries"
   ]
  },
  {
   "cell_type": "code",
   "execution_count": 3,
   "id": "a96d9443",
   "metadata": {},
   "outputs": [
    {
     "name": "stdout",
     "output_type": "stream",
     "text": [
      "[[0. 1. 0. 0. 0. 0. 0. 0. 0. 0. 0.]\n",
      " [0. 0. 1. 0. 0. 0. 0. 0. 0. 0. 0.]\n",
      " [0. 0. 0. 0. 0. 0. 1. 0. 0. 0. 0.]\n",
      " [0. 0. 0. 0. 0. 0. 1. 0. 0. 0. 0.]]\n"
     ]
    }
   ],
   "source": [
    "import numpy as np\n",
    "import os\n",
    "import PIL\n",
    "import PIL.Image\n",
    "import tensorflow as tf\n",
    "import pathlib\n",
    "import sys\n",
    "import random\n",
    "from typing import List\n",
    "\n",
    "module_path = os.path.abspath(os.path.join('..'))\n",
    "if module_path not in sys.path:\n",
    "    sys.path.append(module_path)\n",
    "    \n",
    "from rimworld.utils import read_metadata #, one_hot_encode"
   ]
  },
  {
   "cell_type": "code",
   "execution_count": 2,
   "id": "a4c24f80",
   "metadata": {},
   "outputs": [],
   "source": [
    "# Ik wil deze gewoon importen van utils maar dat mag niet om een of andere reden.\n",
    "\n",
    "\n",
    "def one_hot_encode(lst: np.ndarray, classes = 11):\n",
    "    one_hot_encoded = np.zeros((lst.size, classes), dtype=int)\n",
    "    one_hot_encoded[np.arange(lst.size), lst] = 1\n",
    "    \n",
    "    return one_hot_encoded.tolist()"
   ]
  },
  {
   "cell_type": "markdown",
   "id": "55f11fd6",
   "metadata": {},
   "source": [
    "# Get train STFT data and labels (Nsynth JSON data)"
   ]
  },
  {
   "cell_type": "code",
   "execution_count": 3,
   "id": "63a7af64",
   "metadata": {},
   "outputs": [],
   "source": [
    "data_dir = r\"D:\\Projects\\nsynth-data\\data\\stft\\train\"\n",
    "train_data_dir = pathlib.Path(data_dir)\n",
    "\n",
    "label_dir = r\"D:\\Projects\\nsynth-data\\data/nsynth-train\"\n",
    "train_jsondata = read_metadata(label_dir).sort_index()\n",
    "labels = train_jsondata.instrument_family"
   ]
  },
  {
   "cell_type": "markdown",
   "id": "e7abb3ea",
   "metadata": {},
   "source": [
    "\n",
    "# Get test STFT data and labels"
   ]
  },
  {
   "cell_type": "code",
   "execution_count": 4,
   "id": "274fe254",
   "metadata": {},
   "outputs": [],
   "source": [
    "test_data_dir = r\"D:\\Projects\\nsynth-data\\data\\stft\\test\"\n",
    "test_data_dir = pathlib.Path(test_data_dir)\n",
    "\n",
    "label_dir = r\"D:\\Projects\\nsynth-data\\data/nsynth-test\"\n",
    "test_jsondata = read_metadata(label_dir).sort_index()\n",
    "test_labels = test_jsondata.instrument_family"
   ]
  },
  {
   "cell_type": "markdown",
   "id": "2c8c3c9c",
   "metadata": {},
   "source": [
    "# View image for inspection"
   ]
  },
  {
   "cell_type": "code",
   "execution_count": null,
   "id": "76d363e6",
   "metadata": {},
   "outputs": [],
   "source": [
    "bass_acoustic = list(train_data_dir.glob('bass_acoustic*'))\n",
    "PIL.Image.open(str(bass_acoustic[100]))\n"
   ]
  },
  {
   "cell_type": "code",
   "execution_count": null,
   "id": "8a172bc1",
   "metadata": {},
   "outputs": [],
   "source": [
    "import imageio\n",
    "\n",
    "im = imageio.imread(str(bass_acoustic[100]))\n",
    "print(im[0])"
   ]
  },
  {
   "cell_type": "markdown",
   "id": "4695a4d1",
   "metadata": {
    "pycharm": {
     "name": "#%% md\n"
    }
   },
   "source": [
    "# View JSON-data and labels\n",
    "\n"
   ]
  },
  {
   "cell_type": "code",
   "execution_count": null,
   "id": "3e9fd879",
   "metadata": {
    "pycharm": {
     "name": "#%%\n"
    }
   },
   "outputs": [],
   "source": [
    "labels"
   ]
  },
  {
   "cell_type": "code",
   "execution_count": 5,
   "id": "107bd02c",
   "metadata": {},
   "outputs": [
    {
     "name": "stdout",
     "output_type": "stream",
     "text": [
      "0\n"
     ]
    },
    {
     "data": {
      "text/plain": [
       "[[], []]"
      ]
     },
     "execution_count": 5,
     "metadata": {},
     "output_type": "execute_result"
    }
   ],
   "source": [
    "images = list(train_data_dir.glob('*.png'))\n",
    "image_count = len(images)\n",
    "print(image_count)\n",
    "[images[0:5], images[-5:]]"
   ]
  },
  {
   "cell_type": "markdown",
   "id": "306f7366",
   "metadata": {},
   "source": [
    "# Ensure x and y are the same size"
   ]
  },
  {
   "cell_type": "code",
   "execution_count": null,
   "id": "08e49eda",
   "metadata": {},
   "outputs": [],
   "source": [
    "assert image_count == len(labels.values)"
   ]
  },
  {
   "cell_type": "markdown",
   "id": "9a6bdb78",
   "metadata": {},
   "source": [
    "# One hot encode the labels"
   ]
  },
  {
   "cell_type": "code",
   "execution_count": null,
   "id": "581d740a",
   "metadata": {},
   "outputs": [],
   "source": [
    "labels = one_hot_encode(labels)\n",
    "test_labels = one_hot_encode(test_labels)"
   ]
  },
  {
   "cell_type": "code",
   "execution_count": 12,
   "id": "f4e5fda7",
   "metadata": {},
   "outputs": [
    {
     "name": "stdout",
     "output_type": "stream",
     "text": [
      "hoi\n",
      "hoi\n",
      "hoi\n",
      "hoi\n",
      "hoi\n",
      "hoi\n",
      "hoi\n",
      "hoi\n",
      "hoi\n",
      "hoi\n",
      "hoi\n",
      "hoi\n",
      "hoi\n",
      "hoi\n",
      "hoi\n",
      "hoi\n",
      "hoi\n",
      "hoi\n",
      "hoi\n",
      "hoi\n",
      "hoi\n",
      "hoi\n",
      "hoi\n",
      "hoi\n",
      "hoi\n",
      "hoi\n",
      "hoi\n",
      "hoi\n",
      "hoi\n",
      "hoi\n",
      "hoi\n",
      "hoi\n",
      "hoi\n",
      "D:\\Projects\\nsynth-data\\data\\stft\\valid\\bass_electronic_018-022-025.wav.png\n"
     ]
    }
   ],
   "source": [
    "# print(len(images))\n",
    "# print(len(labels))\n",
    "# labels[0]\n",
    "\n",
    "def get_label(path, label=\"instrument_family\"):\n",
    "    if label==\"pitch\":\n",
    "        return int(path.split('-')[2])\n",
    "\n",
    "    if label==\"instrument_family\":\n",
    "        switch = {\n",
    "            'bass': '00',\n",
    "            'brass': '01',\n",
    "            'flute': '02',\n",
    "            'guitar': '03',\n",
    "            'keyboard': '04',\n",
    "            'mallet': '05',\n",
    "            'organ': '06',\n",
    "            'reed': '07',\n",
    "            'string': '08',\n",
    "            'synth': '09', \n",
    "            'vocal': '10',        \n",
    "        }\n",
    "        filename = os.path.split(path)[1]\n",
    "        split = filename.split('_')\n",
    "        return switch[filename.split('_')[0]]\n",
    "    \n",
    "    if label==\"instrument\":\n",
    "        switch = {\n",
    "            'bass_acoustic': '00',\n",
    "            'bass_electronic': '01',\n",
    "            'bass_synthetic': '02',\n",
    "            'brass_acoustic': '03',\n",
    "            'brass_electronic': '04',\n",
    "            'brass_synthetic': '05',\n",
    "            'flute_acoustic': '06',\n",
    "            'flute_electronic': '07',\n",
    "            'flute_synthetic': '08',\n",
    "            'guitar_acoustic': '09',\n",
    "            'guitar_electronic': '10',\n",
    "            'guitar_synthetic': '11',\n",
    "            'keyboard_acoustic': '12',\n",
    "            'keyboard_electronic': '13',\n",
    "            'keyboard_synthetic': '14',\n",
    "            'mallet_acoustic': '15',\n",
    "            'mallet_electronic': '16',\n",
    "            'mallet_synthetic': '17',\n",
    "            'organ_acoustic': '18',\n",
    "            'organ_electronic': '19',\n",
    "            'organ_synthetic': '20',\n",
    "            'reed_acoustic': '21',\n",
    "            'reed_electronic': '22',\n",
    "            'reed_synthetic': '23',\n",
    "            'string_acoustic': '24',\n",
    "            'string_electronic': '25',\n",
    "            'string_synthetic': '26',\n",
    "            'synth_lead_acoustic': '27',\n",
    "            'synth_lead_electronic': '28',\n",
    "            'synth_lead_synthetic': '29',\n",
    "            'vocal_acoustic': '30',\n",
    "            'vocal_electronic': '31',\n",
    "            'vocal_synthetic': '32',\n",
    "            \n",
    "        } \n",
    "        filename = os.path.split(path)[1]\n",
    "        split = filename.split('_')\n",
    "        if split[0] == \"synth\":\n",
    "            res = split[0] + \"_\" + split[1] + \"_\" + split[2]\n",
    "        else:\n",
    "            res = split[0] + \"_\" + split[1]\n",
    "        return switch[res]\n",
    "\n",
    "def put_all_files_back_in_1_folder(directory):\n",
    "    \"\"\"\n",
    "        Moves all files from subdirectory to root directory and deletes empty subdirectories\n",
    "        \n",
    "        input args:\n",
    "            directory: a Path (either train, test or valid)\n",
    "    \"\"\"\n",
    "    subfolders = os.listdir(directory)\n",
    "    #print(\"all folders\", subfolders)\n",
    "    \n",
    "    # loop over all label subdirtectories\n",
    "    for subfolder in subfolders:\n",
    "        subfolder = os.path.join(directory, subfolder)\n",
    "        #print(\"subfolder: \", subfolder )\n",
    "        files = os.listdir(subfolder)\n",
    "        \n",
    "        # move all files to root folder\n",
    "        for file in files:\n",
    "            old_filepath = os.path.join(subfolder, file)\n",
    "            new_file_path = os.path.join(directory, file)\n",
    "            os.rename(old_filepath, new_file_path)\n",
    "            \n",
    "        if len(os.listdir(subfolder)) == 0:\n",
    "            os.rmdir(subfolder)\n",
    "    \n",
    "\n",
    "def add_zero(s):\n",
    "    if len(s) == 1:\n",
    "        return '0' + s\n",
    "    return s\n",
    "    \n",
    "def create_subdirectories_for_image_dataset_from_directory(data_dir, nr_of_labels, labeltype=\"instrument_family\", reset=True, create_label_directories=True):\n",
    "            \n",
    "    if reset:\n",
    "        put_all_files_back_in_1_folder(data_dir)\n",
    "        \n",
    "    if create_label_directories:\n",
    "        for i in range(nr_of_labels):\n",
    "            print(\"hoi\")\n",
    "            labelclass = add_zero(str(i))\n",
    "            path = os.path.join(data_dir, labelclass)\n",
    "            os.mkdir(path)\n",
    "\n",
    "    \n",
    "    images = list(data_dir.glob('*.png')) \n",
    "    print(images[0])\n",
    "\n",
    "    for path in images:\n",
    "        label = get_label(path, labeltype)\n",
    "        newpath = str(data_dir) + \"/\" + str(label) + \"/\" + os.path.basename(path)\n",
    "        os.rename(path, newpath)\n",
    "        \n",
    "#create_subdirectories_for_image_dataset_from_directory(images, 11)\n",
    "#test_images = list(test_data_dir.glob('*.png')) \n",
    "create_subdirectories_for_image_dataset_from_directory(pathlib.Path(r\"D:\\Projects\\nsynth-data\\data\\stft\\valid\"), 33, labeltype=\"instrument\", reset=False, create_label_directories=True)\n",
    "\n",
    "        "
   ]
  },
  {
   "cell_type": "markdown",
   "id": "d356a018",
   "metadata": {},
   "source": [
    "# Load as train and val dataset with Keras\n"
   ]
  },
  {
   "cell_type": "code",
   "execution_count": 6,
   "id": "ce1bf839",
   "metadata": {
    "pycharm": {
     "name": "#%%\n"
    }
   },
   "outputs": [
    {
     "name": "stdout",
     "output_type": "stream",
     "text": [
      "Found 289205 files belonging to 33 classes.\n",
      "Found 4096 files belonging to 33 classes.\n"
     ]
    }
   ],
   "source": [
    "batch_size = 16\n",
    "img_height = 126\n",
    "img_width = 1025\n",
    "\n",
    "train_ds = tf.keras.preprocessing.image_dataset_from_directory(\n",
    "    train_data_dir, \n",
    "    label_mode = 'categorical',\n",
    "    image_size=(img_height, img_width),\n",
    "    batch_size=batch_size,\n",
    "    color_mode = 'grayscale'\n",
    ")\n",
    "\n",
    "test_ds = tf.keras.preprocessing.image_dataset_from_directory(\n",
    "    test_data_dir, \n",
    "    label_mode = 'categorical',\n",
    "    image_size=(img_height, img_width),\n",
    "    batch_size=batch_size,\n",
    "    color_mode = 'grayscale'\n",
    ")"
   ]
  },
  {
   "cell_type": "markdown",
   "id": "5845c641",
   "metadata": {
    "pycharm": {
     "name": "#%% md\n"
    }
   },
   "source": [
    "\n",
    "batch_size = 32\n",
    "img_height = 126\n",
    "img_width = 1025\n",
    "\n",
    "train_ds = tf.keras.preprocessing.image_dataset_from_directory(\n",
    "    train_data_dir, \n",
    "    labels = labels,\n",
    "    image_size=(img_height, img_width),\n",
    "    batch_size=batch_size)"
   ]
  },
  {
   "cell_type": "code",
   "execution_count": null,
   "id": "99f7b46c",
   "metadata": {},
   "outputs": [],
   "source": [
    "import keras\n",
    "from glob import glob\n",
    "\n",
    "# path = r'F:\\Nsynth\\stft\\train\\*.png'\n",
    "# path = \"../../nsynth-data/data/stft/train/*.png\"\n",
    "# batch_size = 16\n",
    "# nr_of_labels=11\n",
    "# gen = geenreet0r(path, batch_size, nr_of_labels)\n",
    "\n",
    "\n",
    "nr_of_labels=33\n",
    "\n",
    "model = keras.Sequential([\n",
    "    keras.layers.Input(shape=(126, 1025, 1)),\n",
    "    keras.layers.Conv2D(7, kernel_size=(3, 3), activation='relu'),\n",
    "    keras.layers.MaxPooling2D(pool_size=(3, 3)),\n",
    "    keras.layers.Conv2D(7, kernel_size=(3, 3), activation='relu'),\n",
    "    keras.layers.MaxPooling2D(pool_size=(3, 3)),\n",
    "    keras.layers.Flatten(),\n",
    "    keras.layers.Dense(128, activation='relu'),\n",
    "    keras.layers.Dense(nr_of_labels, activation='softmax'),\n",
    "])\n",
    "\n",
    "opt = keras.optimizers.Adam(learning_rate=0.00001)\n",
    "model.compile(loss='categorical_crossentropy', optimizer=opt, metrics='categorical_accuracy')\n",
    "\n",
    "model.summary()\n",
    "history = model.fit(x=train_ds, epochs=5, batch_size=batch_size, validation_data=test_ds, verbose=1)\n",
    "model.save(\"model15052021\")\n",
    "\n",
    "# plt.plot(history.history['val_categorical_accuracy'], label='Validation categorical accuracy')\n",
    "# plt.plot(history.history['categorical_accuracy'], label='Training categorical accuracy')\n",
    "# plt.legend()\n",
    "# plt.title('NSynth instrument Detection Performance')\n",
    "# plt.xlabel('Epochs')\n",
    "# plt.ylabel('Categorical accuracy')\n",
    "# plt.savefig('model')\n"
   ]
  },
  {
   "cell_type": "code",
   "execution_count": 10,
   "id": "aa00e6ee",
   "metadata": {},
   "outputs": [
    {
     "data": {
      "image/png": "[encoded data removed]",
      "text/plain": [
       "<Figure size 432x288 with 1 Axes>"
      ]
     },
     "metadata": {
      "needs_background": "light"
     },
     "output_type": "display_data"
    }
   ],
   "source": [
    "import matplotlib.pyplot as plt\n",
    "\n",
    "plt.plot(history.history['val_categorical_accuracy'], label='Validation categorical accuracy')\n",
    "plt.plot(history.history['categorical_accuracy'], label='Training categorical accuracy')\n",
    "plt.legend()\n",
    "plt.title('NSynth instrument Detection Performance')\n",
    "plt.xlabel('Epochs')\n",
    "plt.ylabel('Categorical accuracy')\n",
    "plt.savefig('model')"
   ]
  },
  {
   "cell_type": "markdown",
   "id": "2c9a56ce",
   "metadata": {},
   "source": [
    "# load model and analyse error's\n"
   ]
  },
  {
   "cell_type": "code",
   "execution_count": null,
   "id": "1959b584",
   "metadata": {},
   "outputs": [],
   "source": [
    "model = "
   ]
  },
  {
   "cell_type": "code",
   "execution_count": null,
   "id": "54adc372",
   "metadata": {},
   "outputs": [],
   "source": [
    "def load_sample(path):\n",
    "    img = tf.keras.preprocessing.image.load_img(path, color_mode=\"grayscale\")\n",
    "    img_array = keras.preprocessing.image.img_to_array(img)\n",
    "    label = get_label(path)\n",
    "    return img_array, label\n",
    "\n",
    "\n",
    "\n",
    "def get_label(path, label=\"instrument_family\"):\n",
    "    if label==\"pitch\":\n",
    "        return int(path.split('-')[2])\n",
    "\n",
    "    if label==\"instrument_family\":\n",
    "        switch = {\n",
    "            'bass': 0,\n",
    "            'brass': 1,\n",
    "            'flute': 2,\n",
    "            'guitar': 3,\n",
    "            'keyboard': 4,\n",
    "            'mallet': 5,\n",
    "            'organ': 6,\n",
    "            'reed': 7,\n",
    "            'string': 8,\n",
    "            'synth': 9, \n",
    "            'vocal': 10,        \n",
    "        }\n",
    "        filename = os.path.split(path)[1]\n",
    "        split = filename.split('_')\n",
    "        return switch[filename.split('_')[0]]\n",
    "    \n",
    "    if label==\"instrument\":\n",
    "        switch = {\n",
    "            'bass_acoustic': 0,\n",
    "            'bass_electronic': 1,\n",
    "            'bass_synthetic': 2,\n",
    "            'brass_acoustic': 3,\n",
    "            'brass_electronic': 4,\n",
    "            'brass_synthetic': 5,\n",
    "            'flute_acoustic': 6,\n",
    "            'flute_electronic': 7,\n",
    "            'flute_synthetic': 8,\n",
    "            'guitar_acoustic': 9,\n",
    "            'guitar_electronic': 10,\n",
    "            'guitar_synthetic': 11,\n",
    "            'keyboard_acoustic': 12,\n",
    "            'keyboard_electronic': 13,\n",
    "            'keyboard_synthetic': 14,\n",
    "            'mallet_acoustic': 15,\n",
    "            'mallet_electronic': 16,\n",
    "            'mallet_synthetic': 17,\n",
    "            'organ_acoustic': 18,\n",
    "            'organ_electronic': 19,\n",
    "            'organ_synthetic': 20,\n",
    "            'reed_acoustic': 21,\n",
    "            'reed_electronic': 22,\n",
    "            'reed_synthetic': 23,\n",
    "            'string_acoustic': 24,\n",
    "            'string_electronic': 25,\n",
    "            'string_synthetic': 26,\n",
    "            'synth_lead_acoustic': 27,\n",
    "            'synth_lead_electronic': 28,\n",
    "            'synth_lead_synthetic': 29,\n",
    "            'vocal_acoustic': 30,\n",
    "            'vocal_electronic': 31,\n",
    "            'vocal_synthetic': 32,\n",
    "            \n",
    "        } \n",
    "        filename = os.path.split(path)[1]\n",
    "        split = filename.split('_')\n",
    "        if split[0] == \"synth\":\n",
    "            res = split[0] + \"_\" + split[1] + \"_\" + split[2]\n",
    "        else:\n",
    "            res = split[0] + \"_\" + split[1]\n",
    "        return switch[res]\n",
    "    \n",
    "\n",
    "def reset(batch_size, nr_of_labels=128):\n",
    "    imgs = np.zeros((batch_size, 126, 1025, 1))\n",
    "    labels = np.zeros((batch_size, nr_of_labels))\n",
    "    return imgs, labels\n",
    "\n",
    "def geenreet0r(path, batch_size, nr_of_labels=128):\n",
    "    files = glob(path)\n",
    "    random.shuffle(files)\n",
    "    imgs, labels = reset(batch_size, nr_of_labels)\n",
    "    for i, file in enumerate(files):\n",
    "        in_batch_id = i % batch_size\n",
    "        if i > 0 and in_batch_id == 0:\n",
    "            # Send last batch\n",
    "            yield imgs, labels\n",
    "            imgs, labels = reset(batch_size, nr_of_labels)\n",
    "        img, label = load_sample(file)\n",
    "        imgs[in_batch_id] = img\n",
    "        labels[in_batch_id, label] = 1  # Dummy coding\n",
    "    else:\n",
    "        # Shut down generator\n",
    "        # TODO: return final batch?\n",
    "        return None"
   ]
  },
  {
   "cell_type": "code",
   "execution_count": null,
   "id": "37163516",
   "metadata": {},
   "outputs": [],
   "source": []
  }
 ],
 "metadata": {
  "kernelspec": {
   "display_name": "Python 3",
   "language": "python",
   "name": "python3"
  },
  "language_info": {
   "codemirror_mode": {
    "name": "ipython",
    "version": 3
   },
   "file_extension": ".py",
   "mimetype": "text/x-python",
   "name": "python",
   "nbconvert_exporter": "python",
   "pygments_lexer": "ipython3",
   "version": "3.7.10"
  }
 },
 "nbformat": 4,
 "nbformat_minor": 5
}
