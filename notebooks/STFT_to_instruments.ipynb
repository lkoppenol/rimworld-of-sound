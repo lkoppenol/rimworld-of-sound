{
 "cells": [
  {
   "cell_type": "markdown",
   "id": "6be9efa9",
   "metadata": {},
   "source": [
    "# Import libraries"
   ]
  },
  {
   "cell_type": "code",
   "execution_count": 42,
   "id": "5033eef0",
   "metadata": {},
   "outputs": [],
   "source": [
    "import numpy as np\n",
    "import os\n",
    "import PIL\n",
    "import PIL.Image\n",
    "import tensorflow as tf\n",
    "import pathlib\n",
    "import sys\n",
    "import random\n",
    "from typing import List\n",
    "\n",
    "module_path = os.path.abspath(os.path.join('..'))\n",
    "if module_path not in sys.path:\n",
    "    sys.path.append(module_path)\n",
    "    \n",
    "from rimworld.utils import read_metadata #, one_hot_encode"
   ]
  },
  {
   "cell_type": "code",
   "execution_count": 32,
   "id": "a3001049",
   "metadata": {},
   "outputs": [],
   "source": [
    "# Ik wil deze gewoon importen van utils maar dat mag niet om een of andere reden.\n",
    "\n",
    "\n",
    "def one_hot_encode(lst: np.ndarray, classes = 11):\n",
    "    one_hot_encoded = np.zeros((lst.size, classes), dtype=int)\n",
    "    one_hot_encoded[np.arange(lst.size), lst] = 1\n",
    "    \n",
    "    return one_hot_encoded.tolist()"
   ]
  },
  {
   "cell_type": "markdown",
   "id": "f9f79b44",
   "metadata": {},
   "source": [
    "# Get train STFT data and labels (Nsynth JSON data)"
   ]
  },
  {
   "cell_type": "code",
   "execution_count": 59,
   "id": "aea27618",
   "metadata": {},
   "outputs": [],
   "source": [
    "data_dir = r\"D:\\Projects\\nsynth-data\\data\\stft\\train\"\n",
    "train_data_dir = pathlib.Path(data_dir)\n",
    "\n",
    "label_dir = r\"D:\\Projects\\nsynth-data\\data/nsynth-train\"\n",
    "train_jsondata = read_metadata(label_dir).sort_index()\n",
    "labels = train_jsondata.instrument_family"
   ]
  },
  {
   "cell_type": "markdown",
   "id": "bab2af11",
   "metadata": {},
   "source": [
    "\n",
    "# Get test STFT data and labels"
   ]
  },
  {
   "cell_type": "code",
   "execution_count": 60,
   "id": "32e5892a",
   "metadata": {},
   "outputs": [],
   "source": [
    "test_data_dir = r\"D:\\Projects\\nsynth-data\\data\\stft\\test\"\n",
    "test_data_dir = pathlib.Path(test_data_dir)\n",
    "\n",
    "label_dir = r\"D:\\Projects\\nsynth-data\\data/nsynth-test\"\n",
    "test_jsondata = read_metadata(label_dir).sort_index()\n",
    "test_labels = test_jsondata.instrument_family"
   ]
  },
  {
   "cell_type": "markdown",
   "id": "b3268bec",
   "metadata": {},
   "source": [
    "# View image for inspection"
   ]
  },
  {
   "cell_type": "code",
   "execution_count": 61,
   "id": "7ec953dd",
   "metadata": {},
   "outputs": [
    {
     "data": {
      "image/png": "[encoded data removed]",
      "text/plain": [
       "<PIL.PngImagePlugin.PngImageFile image mode=RGBA size=1025x126 at 0x2745C18C148>"
      ]
     },
     "execution_count": 61,
     "metadata": {},
     "output_type": "execute_result"
    }
   ],
   "source": [
    "bass_acoustic = list(train_data_dir.glob('bass_acoustic*'))\n",
    "PIL.Image.open(str(bass_acoustic[100]))\n"
   ]
  },
  {
   "cell_type": "code",
   "execution_count": 62,
   "id": "0e41691d",
   "metadata": {},
   "outputs": [
    {
     "name": "stdout",
     "output_type": "stream",
     "text": [
      "[[ 25  25  25 255]\n",
      " [ 47  47  47 255]\n",
      " [ 77  77  77 255]\n",
      " ...\n",
      " [  0   0   0 255]\n",
      " [  0   0   0 255]\n",
      " [  0   0   0 255]]\n"
     ]
    }
   ],
   "source": [
    "import imageio\n",
    "\n",
    "im = imageio.imread(str(bass_acoustic[100]))\n",
    "print(im[0])"
   ]
  },
  {
   "cell_type": "markdown",
   "id": "d37cd8c3",
   "metadata": {
    "pycharm": {
     "name": "#%% md\n"
    }
   },
   "source": [
    "# View JSON-data and labels\n",
    "\n"
   ]
  },
  {
   "cell_type": "code",
   "execution_count": 63,
   "id": "000ed287",
   "metadata": {
    "pycharm": {
     "name": "#%%\n"
    }
   },
   "outputs": [
    {
     "data": {
      "text/plain": [
       "bass_acoustic_000-024-025       0\n",
       "bass_acoustic_000-024-050       0\n",
       "bass_acoustic_000-024-075       0\n",
       "bass_acoustic_000-024-100       0\n",
       "bass_acoustic_000-024-127       0\n",
       "                               ..\n",
       "vocal_synthetic_015-096-025    10\n",
       "vocal_synthetic_015-096-050    10\n",
       "vocal_synthetic_015-096-075    10\n",
       "vocal_synthetic_015-096-100    10\n",
       "vocal_synthetic_015-096-127    10\n",
       "Name: instrument_family, Length: 289205, dtype: int64"
      ]
     },
     "execution_count": 63,
     "metadata": {},
     "output_type": "execute_result"
    }
   ],
   "source": [
    "labels"
   ]
  },
  {
   "cell_type": "code",
   "execution_count": 64,
   "id": "789b6882",
   "metadata": {},
   "outputs": [
    {
     "name": "stdout",
     "output_type": "stream",
     "text": [
      "289205\n"
     ]
    },
    {
     "data": {
      "text/plain": [
       "[[WindowsPath('D:/Projects/nsynth-data/data/stft/train/bass_acoustic_000-024-025.wav.png'),\n",
       "  WindowsPath('D:/Projects/nsynth-data/data/stft/train/bass_acoustic_000-024-050.wav.png'),\n",
       "  WindowsPath('D:/Projects/nsynth-data/data/stft/train/bass_acoustic_000-024-075.wav.png'),\n",
       "  WindowsPath('D:/Projects/nsynth-data/data/stft/train/bass_acoustic_000-024-100.wav.png'),\n",
       "  WindowsPath('D:/Projects/nsynth-data/data/stft/train/bass_acoustic_000-024-127.wav.png')],\n",
       " [WindowsPath('D:/Projects/nsynth-data/data/stft/train/vocal_synthetic_015-096-025.wav.png'),\n",
       "  WindowsPath('D:/Projects/nsynth-data/data/stft/train/vocal_synthetic_015-096-050.wav.png'),\n",
       "  WindowsPath('D:/Projects/nsynth-data/data/stft/train/vocal_synthetic_015-096-075.wav.png'),\n",
       "  WindowsPath('D:/Projects/nsynth-data/data/stft/train/vocal_synthetic_015-096-100.wav.png'),\n",
       "  WindowsPath('D:/Projects/nsynth-data/data/stft/train/vocal_synthetic_015-096-127.wav.png')]]"
      ]
     },
     "execution_count": 64,
     "metadata": {},
     "output_type": "execute_result"
    }
   ],
   "source": [
    "images = list(train_data_dir.glob('*.png'))\n",
    "image_count = len(images)\n",
    "print(image_count)\n",
    "[images[0:5], images[-5:]]"
   ]
  },
  {
   "cell_type": "markdown",
   "id": "363a47d9",
   "metadata": {},
   "source": [
    "# Ensure x and y are the same size"
   ]
  },
  {
   "cell_type": "code",
   "execution_count": 65,
   "id": "dc040398",
   "metadata": {},
   "outputs": [],
   "source": [
    "assert image_count == len(labels.values)"
   ]
  },
  {
   "cell_type": "markdown",
   "id": "38e53e0a",
   "metadata": {},
   "source": [
    "# One hot encode the labels"
   ]
  },
  {
   "cell_type": "code",
   "execution_count": 66,
   "id": "7d9e6cc4",
   "metadata": {},
   "outputs": [],
   "source": [
    "labels = one_hot_encode(labels)\n",
    "test_labels = one_hot_encode(test_labels)"
   ]
  },
  {
   "cell_type": "code",
   "execution_count": 76,
   "id": "1bc79eda",
   "metadata": {},
   "outputs": [
    {
     "name": "stdout",
     "output_type": "stream",
     "text": [
      "289205\n",
      "289205\n"
     ]
    }
   ],
   "source": [
    "print(len(images))\n",
    "print(len(labels))\n",
    "labels[0]\n",
    "\n",
    "def get_label(path, label=\"instrument_family\"):\n",
    "    if label==\"pitch\":\n",
    "        return int(path.split('-')[2])\n",
    "\n",
    "    if label==\"instrument_family\":\n",
    "        switch = {\n",
    "            'bass': 0,\n",
    "            'brass': 1,\n",
    "            'flute': 2,\n",
    "            'guitar': 3,\n",
    "            'keyboard': 4,\n",
    "            'mallet': 5,\n",
    "            'organ': 6,\n",
    "            'reed': 7,\n",
    "            'string': 8,\n",
    "            'synth': 9, \n",
    "            'vocal': 10,        \n",
    "        }\n",
    "        filename = os.path.split(path)[1]\n",
    "        split = filename.split('_')\n",
    "        return switch[filename.split('_')[0]]\n",
    "    \n",
    "    if label==\"instrument\":\n",
    "        switch = {\n",
    "            'bass_acoustic': 0,\n",
    "            'bass_electronic': 1,\n",
    "            'bass_synthetic': 2,\n",
    "            'brass_acoustic': 3,\n",
    "            'brass_electronic': 4,\n",
    "            'brass_synthetic': 5,\n",
    "            'flute_acoustic': 6,\n",
    "            'flute_electronic': 7,\n",
    "            'flute_synthetic': 8,\n",
    "            'guitar_acoustic': 9,\n",
    "            'guitar_electronic': 10,\n",
    "            'guitar_synthetic': 11,\n",
    "            'keyboard_acoustic': 12,\n",
    "            'keyboard_electronic': 13,\n",
    "            'keyboard_synthetic': 14,\n",
    "            'mallet_acoustic': 15,\n",
    "            'mallet_electronic': 16,\n",
    "            'mallet_synthetic': 17,\n",
    "            'organ_acoustic': 18,\n",
    "            'organ_electronic': 19,\n",
    "            'organ_synthetic': 20,\n",
    "            'reed_acoustic': 21,\n",
    "            'reed_electronic': 22,\n",
    "            'reed_synthetic': 23,\n",
    "            'string_acoustic': 24,\n",
    "            'string_electronic': 25,\n",
    "            'string_synthetic': 26,\n",
    "            'synth_lead_acoustic': 27,\n",
    "            'synth_lead_electronic': 28,\n",
    "            'synth_lead_synthetic': 29,\n",
    "            'vocal_acoustic': 30,\n",
    "            'vocal_electronic': 31,\n",
    "            'vocal_synthetic': 32,\n",
    "            \n",
    "        } \n",
    "        filename = os.path.split(path)[1]\n",
    "        split = filename.split('_')\n",
    "        if split[0] == \"synth\":\n",
    "            res = split[0] + \"_\" + split[1] + \"_\" + split[2]\n",
    "        else:\n",
    "            res = split[0] + \"_\" + split[1]\n",
    "        return switch[res]\n",
    "\n",
    "def create_subdirectories_for_image_dataset_from_directory(data_paths: List, nr_of_labels):\n",
    "    \n",
    "    current_dir = str(test_data_dir)\n",
    "    \n",
    "    for i in range(nr_of_labels):\n",
    "        labelclass = str(i)\n",
    "        path = os.path.join(current_dir, labelclass)\n",
    "        os.mkdir(path)\n",
    "    \n",
    "    for path in data_paths:\n",
    "        label = get_label(path, \"instrument_family\")\n",
    "        newpath = current_dir + \"/\" + str(label) + \"/\" + os.path.basename(path)\n",
    "\n",
    "        os.rename(path, newpath)\n",
    "        \n",
    "#create_subdirectories_for_image_dataset_from_directory(images, 11)\n",
    "test_images = list(test_data_dir.glob('*.png')) \n",
    "create_subdirectories_for_image_dataset_from_directory(test_images, 11)\n",
    "\n",
    "        "
   ]
  },
  {
   "cell_type": "markdown",
   "id": "c129226c",
   "metadata": {},
   "source": [
    "# Load as train and val dataset with Keras\n"
   ]
  },
  {
   "cell_type": "code",
   "execution_count": 80,
   "id": "44e0f3c1",
   "metadata": {
    "pycharm": {
     "name": "#%%\n"
    }
   },
   "outputs": [
    {
     "name": "stdout",
     "output_type": "stream",
     "text": [
      "Found 289205 files belonging to 11 classes.\n",
      "Found 4096 files belonging to 11 classes.\n"
     ]
    }
   ],
   "source": [
    "\n",
    "\n",
    "train_ds = tf.keras.preprocessing.image_dataset_from_directory(\n",
    "    train_data_dir, \n",
    "    label_mode = 'categorical',\n",
    "    image_size=(img_height, img_width),\n",
    "    batch_size=batch_size,\n",
    "    color_mode = 'grayscale'\n",
    ")\n",
    "\n",
    "test_ds = tf.keras.preprocessing.image_dataset_from_directory(\n",
    "    test_data_dir, \n",
    "    label_mode = 'categorical',\n",
    "    image_size=(img_height, img_width),\n",
    "    batch_size=batch_size,\n",
    "    color_mode = 'grayscale'\n",
    ")"
   ]
  },
  {
   "cell_type": "markdown",
   "id": "9e8d16b8",
   "metadata": {
    "pycharm": {
     "name": "#%% md\n"
    }
   },
   "source": [
    "\n",
    "batch_size = 32\n",
    "img_height = 126\n",
    "img_width = 1025\n",
    "\n",
    "train_ds = tf.keras.preprocessing.image_dataset_from_directory(\n",
    "    train_data_dir, \n",
    "    labels = labels,\n",
    "    image_size=(img_height, img_width),\n",
    "    batch_size=batch_size)"
   ]
  },
  {
   "cell_type": "code",
   "execution_count": 81,
   "id": "2033b6ec",
   "metadata": {},
   "outputs": [
    {
     "name": "stdout",
     "output_type": "stream",
     "text": [
      "Model: \"sequential_19\"\n",
      "_________________________________________________________________\n",
      "Layer (type)                 Output Shape              Param #   \n",
      "=================================================================\n",
      "conv2d_45 (Conv2D)           (None, 124, 1023, 32)     320       \n",
      "_________________________________________________________________\n",
      "max_pooling2d_49 (MaxPooling (None, 41, 341, 32)       0         \n",
      "_________________________________________________________________\n",
      "conv2d_46 (Conv2D)           (None, 39, 339, 64)       18496     \n",
      "_________________________________________________________________\n",
      "max_pooling2d_50 (MaxPooling (None, 13, 113, 64)       0         \n",
      "_________________________________________________________________\n",
      "conv2d_47 (Conv2D)           (None, 11, 111, 128)      73856     \n",
      "_________________________________________________________________\n",
      "max_pooling2d_51 (MaxPooling (None, 3, 37, 128)        0         \n",
      "_________________________________________________________________\n",
      "flatten_19 (Flatten)         (None, 14208)             0         \n",
      "_________________________________________________________________\n",
      "dense_38 (Dense)             (None, 512)               7275008   \n",
      "_________________________________________________________________\n",
      "dense_39 (Dense)             (None, 11)                5643      \n",
      "=================================================================\n",
      "Total params: 7,373,323\n",
      "Trainable params: 7,373,323\n",
      "Non-trainable params: 0\n",
      "_________________________________________________________________\n",
      "Epoch 1/3\n",
      "  234/18076 [..............................] - ETA: 1:37:24 - loss: 5.1405 - categorical_accuracy: 0.3185"
     ]
    },
    {
     "ename": "KeyboardInterrupt",
     "evalue": "",
     "output_type": "error",
     "traceback": [
      "\u001b[1;31m---------------------------------------------------------------------------\u001b[0m",
      "\u001b[1;31mKeyboardInterrupt\u001b[0m                         Traceback (most recent call last)",
      "\u001b[1;32m<ipython-input-81-d98d628ee086>\u001b[0m in \u001b[0;36m<module>\u001b[1;34m\u001b[0m\n\u001b[0;32m     22\u001b[0m \u001b[1;33m\u001b[0m\u001b[0m\n\u001b[0;32m     23\u001b[0m \u001b[0mmodel\u001b[0m\u001b[1;33m.\u001b[0m\u001b[0msummary\u001b[0m\u001b[1;33m(\u001b[0m\u001b[1;33m)\u001b[0m\u001b[1;33m\u001b[0m\u001b[1;33m\u001b[0m\u001b[0m\n\u001b[1;32m---> 24\u001b[1;33m \u001b[0mhistory\u001b[0m \u001b[1;33m=\u001b[0m \u001b[0mmodel\u001b[0m\u001b[1;33m.\u001b[0m\u001b[0mfit\u001b[0m\u001b[1;33m(\u001b[0m\u001b[0mx\u001b[0m\u001b[1;33m=\u001b[0m\u001b[0mtrain_ds\u001b[0m\u001b[1;33m,\u001b[0m \u001b[0mepochs\u001b[0m\u001b[1;33m=\u001b[0m\u001b[1;36m3\u001b[0m\u001b[1;33m,\u001b[0m \u001b[0mbatch_size\u001b[0m\u001b[1;33m=\u001b[0m\u001b[0mbatch_size\u001b[0m\u001b[1;33m,\u001b[0m \u001b[0mvalidation_data\u001b[0m\u001b[1;33m=\u001b[0m\u001b[0mtest_ds\u001b[0m\u001b[1;33m,\u001b[0m \u001b[0mverbose\u001b[0m\u001b[1;33m=\u001b[0m\u001b[1;36m1\u001b[0m\u001b[1;33m)\u001b[0m\u001b[1;33m\u001b[0m\u001b[1;33m\u001b[0m\u001b[0m\n\u001b[0m\u001b[0;32m     25\u001b[0m \u001b[1;33m\u001b[0m\u001b[0m\n\u001b[0;32m     26\u001b[0m \u001b[1;31m# plt.plot(history.history['val_categorical_accuracy'], label='Validation categorical accuracy')\u001b[0m\u001b[1;33m\u001b[0m\u001b[1;33m\u001b[0m\u001b[1;33m\u001b[0m\u001b[0m\n",
      "\u001b[1;32mD:\\Applications\\Anaconda3\\envs\\nsynth\\lib\\site-packages\\tensorflow\\python\\keras\\engine\\training.py\u001b[0m in \u001b[0;36mfit\u001b[1;34m(self, x, y, batch_size, epochs, verbose, callbacks, validation_split, validation_data, shuffle, class_weight, sample_weight, initial_epoch, steps_per_epoch, validation_steps, validation_batch_size, validation_freq, max_queue_size, workers, use_multiprocessing)\u001b[0m\n\u001b[0;32m   1103\u001b[0m               \u001b[0mlogs\u001b[0m \u001b[1;33m=\u001b[0m \u001b[0mtmp_logs\u001b[0m  \u001b[1;31m# No error, now safe to assign to logs.\u001b[0m\u001b[1;33m\u001b[0m\u001b[1;33m\u001b[0m\u001b[0m\n\u001b[0;32m   1104\u001b[0m               \u001b[0mend_step\u001b[0m \u001b[1;33m=\u001b[0m \u001b[0mstep\u001b[0m \u001b[1;33m+\u001b[0m \u001b[0mdata_handler\u001b[0m\u001b[1;33m.\u001b[0m\u001b[0mstep_increment\u001b[0m\u001b[1;33m\u001b[0m\u001b[1;33m\u001b[0m\u001b[0m\n\u001b[1;32m-> 1105\u001b[1;33m               \u001b[0mcallbacks\u001b[0m\u001b[1;33m.\u001b[0m\u001b[0mon_train_batch_end\u001b[0m\u001b[1;33m(\u001b[0m\u001b[0mend_step\u001b[0m\u001b[1;33m,\u001b[0m \u001b[0mlogs\u001b[0m\u001b[1;33m)\u001b[0m\u001b[1;33m\u001b[0m\u001b[1;33m\u001b[0m\u001b[0m\n\u001b[0m\u001b[0;32m   1106\u001b[0m               \u001b[1;32mif\u001b[0m \u001b[0mself\u001b[0m\u001b[1;33m.\u001b[0m\u001b[0mstop_training\u001b[0m\u001b[1;33m:\u001b[0m\u001b[1;33m\u001b[0m\u001b[1;33m\u001b[0m\u001b[0m\n\u001b[0;32m   1107\u001b[0m                 \u001b[1;32mbreak\u001b[0m\u001b[1;33m\u001b[0m\u001b[1;33m\u001b[0m\u001b[0m\n",
      "\u001b[1;32mD:\\Applications\\Anaconda3\\envs\\nsynth\\lib\\site-packages\\tensorflow\\python\\keras\\callbacks.py\u001b[0m in \u001b[0;36mon_train_batch_end\u001b[1;34m(self, batch, logs)\u001b[0m\n\u001b[0;32m    452\u001b[0m     \"\"\"\n\u001b[0;32m    453\u001b[0m     \u001b[1;32mif\u001b[0m \u001b[0mself\u001b[0m\u001b[1;33m.\u001b[0m\u001b[0m_should_call_train_batch_hooks\u001b[0m\u001b[1;33m:\u001b[0m\u001b[1;33m\u001b[0m\u001b[1;33m\u001b[0m\u001b[0m\n\u001b[1;32m--> 454\u001b[1;33m       \u001b[0mself\u001b[0m\u001b[1;33m.\u001b[0m\u001b[0m_call_batch_hook\u001b[0m\u001b[1;33m(\u001b[0m\u001b[0mModeKeys\u001b[0m\u001b[1;33m.\u001b[0m\u001b[0mTRAIN\u001b[0m\u001b[1;33m,\u001b[0m \u001b[1;34m'end'\u001b[0m\u001b[1;33m,\u001b[0m \u001b[0mbatch\u001b[0m\u001b[1;33m,\u001b[0m \u001b[0mlogs\u001b[0m\u001b[1;33m=\u001b[0m\u001b[0mlogs\u001b[0m\u001b[1;33m)\u001b[0m\u001b[1;33m\u001b[0m\u001b[1;33m\u001b[0m\u001b[0m\n\u001b[0m\u001b[0;32m    455\u001b[0m \u001b[1;33m\u001b[0m\u001b[0m\n\u001b[0;32m    456\u001b[0m   \u001b[1;32mdef\u001b[0m \u001b[0mon_test_batch_begin\u001b[0m\u001b[1;33m(\u001b[0m\u001b[0mself\u001b[0m\u001b[1;33m,\u001b[0m \u001b[0mbatch\u001b[0m\u001b[1;33m,\u001b[0m \u001b[0mlogs\u001b[0m\u001b[1;33m=\u001b[0m\u001b[1;32mNone\u001b[0m\u001b[1;33m)\u001b[0m\u001b[1;33m:\u001b[0m\u001b[1;33m\u001b[0m\u001b[1;33m\u001b[0m\u001b[0m\n",
      "\u001b[1;32mD:\\Applications\\Anaconda3\\envs\\nsynth\\lib\\site-packages\\tensorflow\\python\\keras\\callbacks.py\u001b[0m in \u001b[0;36m_call_batch_hook\u001b[1;34m(self, mode, hook, batch, logs)\u001b[0m\n\u001b[0;32m    294\u001b[0m       \u001b[0mself\u001b[0m\u001b[1;33m.\u001b[0m\u001b[0m_call_batch_begin_hook\u001b[0m\u001b[1;33m(\u001b[0m\u001b[0mmode\u001b[0m\u001b[1;33m,\u001b[0m \u001b[0mbatch\u001b[0m\u001b[1;33m,\u001b[0m \u001b[0mlogs\u001b[0m\u001b[1;33m)\u001b[0m\u001b[1;33m\u001b[0m\u001b[1;33m\u001b[0m\u001b[0m\n\u001b[0;32m    295\u001b[0m     \u001b[1;32melif\u001b[0m \u001b[0mhook\u001b[0m \u001b[1;33m==\u001b[0m \u001b[1;34m'end'\u001b[0m\u001b[1;33m:\u001b[0m\u001b[1;33m\u001b[0m\u001b[1;33m\u001b[0m\u001b[0m\n\u001b[1;32m--> 296\u001b[1;33m       \u001b[0mself\u001b[0m\u001b[1;33m.\u001b[0m\u001b[0m_call_batch_end_hook\u001b[0m\u001b[1;33m(\u001b[0m\u001b[0mmode\u001b[0m\u001b[1;33m,\u001b[0m \u001b[0mbatch\u001b[0m\u001b[1;33m,\u001b[0m \u001b[0mlogs\u001b[0m\u001b[1;33m)\u001b[0m\u001b[1;33m\u001b[0m\u001b[1;33m\u001b[0m\u001b[0m\n\u001b[0m\u001b[0;32m    297\u001b[0m     \u001b[1;32melse\u001b[0m\u001b[1;33m:\u001b[0m\u001b[1;33m\u001b[0m\u001b[1;33m\u001b[0m\u001b[0m\n\u001b[0;32m    298\u001b[0m       \u001b[1;32mraise\u001b[0m \u001b[0mValueError\u001b[0m\u001b[1;33m(\u001b[0m\u001b[1;34m'Unrecognized hook: {}'\u001b[0m\u001b[1;33m.\u001b[0m\u001b[0mformat\u001b[0m\u001b[1;33m(\u001b[0m\u001b[0mhook\u001b[0m\u001b[1;33m)\u001b[0m\u001b[1;33m)\u001b[0m\u001b[1;33m\u001b[0m\u001b[1;33m\u001b[0m\u001b[0m\n",
      "\u001b[1;32mD:\\Applications\\Anaconda3\\envs\\nsynth\\lib\\site-packages\\tensorflow\\python\\keras\\callbacks.py\u001b[0m in \u001b[0;36m_call_batch_end_hook\u001b[1;34m(self, mode, batch, logs)\u001b[0m\n\u001b[0;32m    314\u001b[0m       \u001b[0mself\u001b[0m\u001b[1;33m.\u001b[0m\u001b[0m_batch_times\u001b[0m\u001b[1;33m.\u001b[0m\u001b[0mappend\u001b[0m\u001b[1;33m(\u001b[0m\u001b[0mbatch_time\u001b[0m\u001b[1;33m)\u001b[0m\u001b[1;33m\u001b[0m\u001b[1;33m\u001b[0m\u001b[0m\n\u001b[0;32m    315\u001b[0m \u001b[1;33m\u001b[0m\u001b[0m\n\u001b[1;32m--> 316\u001b[1;33m     \u001b[0mself\u001b[0m\u001b[1;33m.\u001b[0m\u001b[0m_call_batch_hook_helper\u001b[0m\u001b[1;33m(\u001b[0m\u001b[0mhook_name\u001b[0m\u001b[1;33m,\u001b[0m \u001b[0mbatch\u001b[0m\u001b[1;33m,\u001b[0m \u001b[0mlogs\u001b[0m\u001b[1;33m)\u001b[0m\u001b[1;33m\u001b[0m\u001b[1;33m\u001b[0m\u001b[0m\n\u001b[0m\u001b[0;32m    317\u001b[0m \u001b[1;33m\u001b[0m\u001b[0m\n\u001b[0;32m    318\u001b[0m     \u001b[1;32mif\u001b[0m \u001b[0mlen\u001b[0m\u001b[1;33m(\u001b[0m\u001b[0mself\u001b[0m\u001b[1;33m.\u001b[0m\u001b[0m_batch_times\u001b[0m\u001b[1;33m)\u001b[0m \u001b[1;33m>=\u001b[0m \u001b[0mself\u001b[0m\u001b[1;33m.\u001b[0m\u001b[0m_num_batches_for_timing_check\u001b[0m\u001b[1;33m:\u001b[0m\u001b[1;33m\u001b[0m\u001b[1;33m\u001b[0m\u001b[0m\n",
      "\u001b[1;32mD:\\Applications\\Anaconda3\\envs\\nsynth\\lib\\site-packages\\tensorflow\\python\\keras\\callbacks.py\u001b[0m in \u001b[0;36m_call_batch_hook_helper\u001b[1;34m(self, hook_name, batch, logs)\u001b[0m\n\u001b[0;32m    354\u001b[0m       \u001b[0mhook\u001b[0m \u001b[1;33m=\u001b[0m \u001b[0mgetattr\u001b[0m\u001b[1;33m(\u001b[0m\u001b[0mcallback\u001b[0m\u001b[1;33m,\u001b[0m \u001b[0mhook_name\u001b[0m\u001b[1;33m)\u001b[0m\u001b[1;33m\u001b[0m\u001b[1;33m\u001b[0m\u001b[0m\n\u001b[0;32m    355\u001b[0m       \u001b[1;32mif\u001b[0m \u001b[0mgetattr\u001b[0m\u001b[1;33m(\u001b[0m\u001b[0mcallback\u001b[0m\u001b[1;33m,\u001b[0m \u001b[1;34m'_supports_tf_logs'\u001b[0m\u001b[1;33m,\u001b[0m \u001b[1;32mFalse\u001b[0m\u001b[1;33m)\u001b[0m\u001b[1;33m:\u001b[0m\u001b[1;33m\u001b[0m\u001b[1;33m\u001b[0m\u001b[0m\n\u001b[1;32m--> 356\u001b[1;33m         \u001b[0mhook\u001b[0m\u001b[1;33m(\u001b[0m\u001b[0mbatch\u001b[0m\u001b[1;33m,\u001b[0m \u001b[0mlogs\u001b[0m\u001b[1;33m)\u001b[0m\u001b[1;33m\u001b[0m\u001b[1;33m\u001b[0m\u001b[0m\n\u001b[0m\u001b[0;32m    357\u001b[0m       \u001b[1;32melse\u001b[0m\u001b[1;33m:\u001b[0m\u001b[1;33m\u001b[0m\u001b[1;33m\u001b[0m\u001b[0m\n\u001b[0;32m    358\u001b[0m         \u001b[1;32mif\u001b[0m \u001b[0mnumpy_logs\u001b[0m \u001b[1;32mis\u001b[0m \u001b[1;32mNone\u001b[0m\u001b[1;33m:\u001b[0m  \u001b[1;31m# Only convert once.\u001b[0m\u001b[1;33m\u001b[0m\u001b[1;33m\u001b[0m\u001b[0m\n",
      "\u001b[1;32mD:\\Applications\\Anaconda3\\envs\\nsynth\\lib\\site-packages\\tensorflow\\python\\keras\\callbacks.py\u001b[0m in \u001b[0;36mon_train_batch_end\u001b[1;34m(self, batch, logs)\u001b[0m\n\u001b[0;32m   1018\u001b[0m \u001b[1;33m\u001b[0m\u001b[0m\n\u001b[0;32m   1019\u001b[0m   \u001b[1;32mdef\u001b[0m \u001b[0mon_train_batch_end\u001b[0m\u001b[1;33m(\u001b[0m\u001b[0mself\u001b[0m\u001b[1;33m,\u001b[0m \u001b[0mbatch\u001b[0m\u001b[1;33m,\u001b[0m \u001b[0mlogs\u001b[0m\u001b[1;33m=\u001b[0m\u001b[1;32mNone\u001b[0m\u001b[1;33m)\u001b[0m\u001b[1;33m:\u001b[0m\u001b[1;33m\u001b[0m\u001b[1;33m\u001b[0m\u001b[0m\n\u001b[1;32m-> 1020\u001b[1;33m     \u001b[0mself\u001b[0m\u001b[1;33m.\u001b[0m\u001b[0m_batch_update_progbar\u001b[0m\u001b[1;33m(\u001b[0m\u001b[0mbatch\u001b[0m\u001b[1;33m,\u001b[0m \u001b[0mlogs\u001b[0m\u001b[1;33m)\u001b[0m\u001b[1;33m\u001b[0m\u001b[1;33m\u001b[0m\u001b[0m\n\u001b[0m\u001b[0;32m   1021\u001b[0m \u001b[1;33m\u001b[0m\u001b[0m\n\u001b[0;32m   1022\u001b[0m   \u001b[1;32mdef\u001b[0m \u001b[0mon_test_batch_end\u001b[0m\u001b[1;33m(\u001b[0m\u001b[0mself\u001b[0m\u001b[1;33m,\u001b[0m \u001b[0mbatch\u001b[0m\u001b[1;33m,\u001b[0m \u001b[0mlogs\u001b[0m\u001b[1;33m=\u001b[0m\u001b[1;32mNone\u001b[0m\u001b[1;33m)\u001b[0m\u001b[1;33m:\u001b[0m\u001b[1;33m\u001b[0m\u001b[1;33m\u001b[0m\u001b[0m\n",
      "\u001b[1;32mD:\\Applications\\Anaconda3\\envs\\nsynth\\lib\\site-packages\\tensorflow\\python\\keras\\callbacks.py\u001b[0m in \u001b[0;36m_batch_update_progbar\u001b[1;34m(self, batch, logs)\u001b[0m\n\u001b[0;32m   1082\u001b[0m     \u001b[1;32mif\u001b[0m \u001b[0mself\u001b[0m\u001b[1;33m.\u001b[0m\u001b[0mverbose\u001b[0m \u001b[1;33m==\u001b[0m \u001b[1;36m1\u001b[0m\u001b[1;33m:\u001b[0m\u001b[1;33m\u001b[0m\u001b[1;33m\u001b[0m\u001b[0m\n\u001b[0;32m   1083\u001b[0m       \u001b[1;31m# Only block async when verbose = 1.\u001b[0m\u001b[1;33m\u001b[0m\u001b[1;33m\u001b[0m\u001b[1;33m\u001b[0m\u001b[0m\n\u001b[1;32m-> 1084\u001b[1;33m       \u001b[0mlogs\u001b[0m \u001b[1;33m=\u001b[0m \u001b[0mtf_utils\u001b[0m\u001b[1;33m.\u001b[0m\u001b[0mto_numpy_or_python_type\u001b[0m\u001b[1;33m(\u001b[0m\u001b[0mlogs\u001b[0m\u001b[1;33m)\u001b[0m\u001b[1;33m\u001b[0m\u001b[1;33m\u001b[0m\u001b[0m\n\u001b[0m\u001b[0;32m   1085\u001b[0m       \u001b[0mself\u001b[0m\u001b[1;33m.\u001b[0m\u001b[0mprogbar\u001b[0m\u001b[1;33m.\u001b[0m\u001b[0mupdate\u001b[0m\u001b[1;33m(\u001b[0m\u001b[0mself\u001b[0m\u001b[1;33m.\u001b[0m\u001b[0mseen\u001b[0m\u001b[1;33m,\u001b[0m \u001b[0mlist\u001b[0m\u001b[1;33m(\u001b[0m\u001b[0mlogs\u001b[0m\u001b[1;33m.\u001b[0m\u001b[0mitems\u001b[0m\u001b[1;33m(\u001b[0m\u001b[1;33m)\u001b[0m\u001b[1;33m)\u001b[0m\u001b[1;33m,\u001b[0m \u001b[0mfinalize\u001b[0m\u001b[1;33m=\u001b[0m\u001b[1;32mFalse\u001b[0m\u001b[1;33m)\u001b[0m\u001b[1;33m\u001b[0m\u001b[1;33m\u001b[0m\u001b[0m\n\u001b[0;32m   1086\u001b[0m \u001b[1;33m\u001b[0m\u001b[0m\n",
      "\u001b[1;32mD:\\Applications\\Anaconda3\\envs\\nsynth\\lib\\site-packages\\tensorflow\\python\\keras\\utils\\tf_utils.py\u001b[0m in \u001b[0;36mto_numpy_or_python_type\u001b[1;34m(tensors)\u001b[0m\n\u001b[0;32m    512\u001b[0m     \u001b[1;32mreturn\u001b[0m \u001b[0mt\u001b[0m  \u001b[1;31m# Don't turn ragged or sparse tensors to NumPy.\u001b[0m\u001b[1;33m\u001b[0m\u001b[1;33m\u001b[0m\u001b[0m\n\u001b[0;32m    513\u001b[0m \u001b[1;33m\u001b[0m\u001b[0m\n\u001b[1;32m--> 514\u001b[1;33m   \u001b[1;32mreturn\u001b[0m \u001b[0mnest\u001b[0m\u001b[1;33m.\u001b[0m\u001b[0mmap_structure\u001b[0m\u001b[1;33m(\u001b[0m\u001b[0m_to_single_numpy_or_python_type\u001b[0m\u001b[1;33m,\u001b[0m \u001b[0mtensors\u001b[0m\u001b[1;33m)\u001b[0m\u001b[1;33m\u001b[0m\u001b[1;33m\u001b[0m\u001b[0m\n\u001b[0m\u001b[0;32m    515\u001b[0m \u001b[1;33m\u001b[0m\u001b[0m\n\u001b[0;32m    516\u001b[0m \u001b[1;33m\u001b[0m\u001b[0m\n",
      "\u001b[1;32mD:\\Applications\\Anaconda3\\envs\\nsynth\\lib\\site-packages\\tensorflow\\python\\util\\nest.py\u001b[0m in \u001b[0;36mmap_structure\u001b[1;34m(func, *structure, **kwargs)\u001b[0m\n\u001b[0;32m    657\u001b[0m \u001b[1;33m\u001b[0m\u001b[0m\n\u001b[0;32m    658\u001b[0m   return pack_sequence_as(\n\u001b[1;32m--> 659\u001b[1;33m       \u001b[0mstructure\u001b[0m\u001b[1;33m[\u001b[0m\u001b[1;36m0\u001b[0m\u001b[1;33m]\u001b[0m\u001b[1;33m,\u001b[0m \u001b[1;33m[\u001b[0m\u001b[0mfunc\u001b[0m\u001b[1;33m(\u001b[0m\u001b[1;33m*\u001b[0m\u001b[0mx\u001b[0m\u001b[1;33m)\u001b[0m \u001b[1;32mfor\u001b[0m \u001b[0mx\u001b[0m \u001b[1;32min\u001b[0m \u001b[0mentries\u001b[0m\u001b[1;33m]\u001b[0m\u001b[1;33m,\u001b[0m\u001b[1;33m\u001b[0m\u001b[1;33m\u001b[0m\u001b[0m\n\u001b[0m\u001b[0;32m    660\u001b[0m       expand_composites=expand_composites)\n\u001b[0;32m    661\u001b[0m \u001b[1;33m\u001b[0m\u001b[0m\n",
      "\u001b[1;32mD:\\Applications\\Anaconda3\\envs\\nsynth\\lib\\site-packages\\tensorflow\\python\\util\\nest.py\u001b[0m in \u001b[0;36m<listcomp>\u001b[1;34m(.0)\u001b[0m\n\u001b[0;32m    657\u001b[0m \u001b[1;33m\u001b[0m\u001b[0m\n\u001b[0;32m    658\u001b[0m   return pack_sequence_as(\n\u001b[1;32m--> 659\u001b[1;33m       \u001b[0mstructure\u001b[0m\u001b[1;33m[\u001b[0m\u001b[1;36m0\u001b[0m\u001b[1;33m]\u001b[0m\u001b[1;33m,\u001b[0m \u001b[1;33m[\u001b[0m\u001b[0mfunc\u001b[0m\u001b[1;33m(\u001b[0m\u001b[1;33m*\u001b[0m\u001b[0mx\u001b[0m\u001b[1;33m)\u001b[0m \u001b[1;32mfor\u001b[0m \u001b[0mx\u001b[0m \u001b[1;32min\u001b[0m \u001b[0mentries\u001b[0m\u001b[1;33m]\u001b[0m\u001b[1;33m,\u001b[0m\u001b[1;33m\u001b[0m\u001b[1;33m\u001b[0m\u001b[0m\n\u001b[0m\u001b[0;32m    660\u001b[0m       expand_composites=expand_composites)\n\u001b[0;32m    661\u001b[0m \u001b[1;33m\u001b[0m\u001b[0m\n",
      "\u001b[1;32mD:\\Applications\\Anaconda3\\envs\\nsynth\\lib\\site-packages\\tensorflow\\python\\keras\\utils\\tf_utils.py\u001b[0m in \u001b[0;36m_to_single_numpy_or_python_type\u001b[1;34m(t)\u001b[0m\n\u001b[0;32m    508\u001b[0m   \u001b[1;32mdef\u001b[0m \u001b[0m_to_single_numpy_or_python_type\u001b[0m\u001b[1;33m(\u001b[0m\u001b[0mt\u001b[0m\u001b[1;33m)\u001b[0m\u001b[1;33m:\u001b[0m\u001b[1;33m\u001b[0m\u001b[1;33m\u001b[0m\u001b[0m\n\u001b[0;32m    509\u001b[0m     \u001b[1;32mif\u001b[0m \u001b[0misinstance\u001b[0m\u001b[1;33m(\u001b[0m\u001b[0mt\u001b[0m\u001b[1;33m,\u001b[0m \u001b[0mops\u001b[0m\u001b[1;33m.\u001b[0m\u001b[0mTensor\u001b[0m\u001b[1;33m)\u001b[0m\u001b[1;33m:\u001b[0m\u001b[1;33m\u001b[0m\u001b[1;33m\u001b[0m\u001b[0m\n\u001b[1;32m--> 510\u001b[1;33m       \u001b[0mx\u001b[0m \u001b[1;33m=\u001b[0m \u001b[0mt\u001b[0m\u001b[1;33m.\u001b[0m\u001b[0mnumpy\u001b[0m\u001b[1;33m(\u001b[0m\u001b[1;33m)\u001b[0m\u001b[1;33m\u001b[0m\u001b[1;33m\u001b[0m\u001b[0m\n\u001b[0m\u001b[0;32m    511\u001b[0m       \u001b[1;32mreturn\u001b[0m \u001b[0mx\u001b[0m\u001b[1;33m.\u001b[0m\u001b[0mitem\u001b[0m\u001b[1;33m(\u001b[0m\u001b[1;33m)\u001b[0m \u001b[1;32mif\u001b[0m \u001b[0mnp\u001b[0m\u001b[1;33m.\u001b[0m\u001b[0mndim\u001b[0m\u001b[1;33m(\u001b[0m\u001b[0mx\u001b[0m\u001b[1;33m)\u001b[0m \u001b[1;33m==\u001b[0m \u001b[1;36m0\u001b[0m \u001b[1;32melse\u001b[0m \u001b[0mx\u001b[0m\u001b[1;33m\u001b[0m\u001b[1;33m\u001b[0m\u001b[0m\n\u001b[0;32m    512\u001b[0m     \u001b[1;32mreturn\u001b[0m \u001b[0mt\u001b[0m  \u001b[1;31m# Don't turn ragged or sparse tensors to NumPy.\u001b[0m\u001b[1;33m\u001b[0m\u001b[1;33m\u001b[0m\u001b[0m\n",
      "\u001b[1;32mD:\\Applications\\Anaconda3\\envs\\nsynth\\lib\\site-packages\\tensorflow\\python\\framework\\ops.py\u001b[0m in \u001b[0;36mnumpy\u001b[1;34m(self)\u001b[0m\n\u001b[0;32m   1069\u001b[0m     \"\"\"\n\u001b[0;32m   1070\u001b[0m     \u001b[1;31m# TODO(slebedev): Consider avoiding a copy for non-CPU or remote tensors.\u001b[0m\u001b[1;33m\u001b[0m\u001b[1;33m\u001b[0m\u001b[1;33m\u001b[0m\u001b[0m\n\u001b[1;32m-> 1071\u001b[1;33m     \u001b[0mmaybe_arr\u001b[0m \u001b[1;33m=\u001b[0m \u001b[0mself\u001b[0m\u001b[1;33m.\u001b[0m\u001b[0m_numpy\u001b[0m\u001b[1;33m(\u001b[0m\u001b[1;33m)\u001b[0m  \u001b[1;31m# pylint: disable=protected-access\u001b[0m\u001b[1;33m\u001b[0m\u001b[1;33m\u001b[0m\u001b[0m\n\u001b[0m\u001b[0;32m   1072\u001b[0m     \u001b[1;32mreturn\u001b[0m \u001b[0mmaybe_arr\u001b[0m\u001b[1;33m.\u001b[0m\u001b[0mcopy\u001b[0m\u001b[1;33m(\u001b[0m\u001b[1;33m)\u001b[0m \u001b[1;32mif\u001b[0m \u001b[0misinstance\u001b[0m\u001b[1;33m(\u001b[0m\u001b[0mmaybe_arr\u001b[0m\u001b[1;33m,\u001b[0m \u001b[0mnp\u001b[0m\u001b[1;33m.\u001b[0m\u001b[0mndarray\u001b[0m\u001b[1;33m)\u001b[0m \u001b[1;32melse\u001b[0m \u001b[0mmaybe_arr\u001b[0m\u001b[1;33m\u001b[0m\u001b[1;33m\u001b[0m\u001b[0m\n\u001b[0;32m   1073\u001b[0m \u001b[1;33m\u001b[0m\u001b[0m\n",
      "\u001b[1;32mD:\\Applications\\Anaconda3\\envs\\nsynth\\lib\\site-packages\\tensorflow\\python\\framework\\ops.py\u001b[0m in \u001b[0;36m_numpy\u001b[1;34m(self)\u001b[0m\n\u001b[0;32m   1035\u001b[0m   \u001b[1;32mdef\u001b[0m \u001b[0m_numpy\u001b[0m\u001b[1;33m(\u001b[0m\u001b[0mself\u001b[0m\u001b[1;33m)\u001b[0m\u001b[1;33m:\u001b[0m\u001b[1;33m\u001b[0m\u001b[1;33m\u001b[0m\u001b[0m\n\u001b[0;32m   1036\u001b[0m     \u001b[1;32mtry\u001b[0m\u001b[1;33m:\u001b[0m\u001b[1;33m\u001b[0m\u001b[1;33m\u001b[0m\u001b[0m\n\u001b[1;32m-> 1037\u001b[1;33m       \u001b[1;32mreturn\u001b[0m \u001b[0mself\u001b[0m\u001b[1;33m.\u001b[0m\u001b[0m_numpy_internal\u001b[0m\u001b[1;33m(\u001b[0m\u001b[1;33m)\u001b[0m\u001b[1;33m\u001b[0m\u001b[1;33m\u001b[0m\u001b[0m\n\u001b[0m\u001b[0;32m   1038\u001b[0m     \u001b[1;32mexcept\u001b[0m \u001b[0mcore\u001b[0m\u001b[1;33m.\u001b[0m\u001b[0m_NotOkStatusException\u001b[0m \u001b[1;32mas\u001b[0m \u001b[0me\u001b[0m\u001b[1;33m:\u001b[0m  \u001b[1;31m# pylint: disable=protected-access\u001b[0m\u001b[1;33m\u001b[0m\u001b[1;33m\u001b[0m\u001b[0m\n\u001b[0;32m   1039\u001b[0m       \u001b[0msix\u001b[0m\u001b[1;33m.\u001b[0m\u001b[0mraise_from\u001b[0m\u001b[1;33m(\u001b[0m\u001b[0mcore\u001b[0m\u001b[1;33m.\u001b[0m\u001b[0m_status_to_exception\u001b[0m\u001b[1;33m(\u001b[0m\u001b[0me\u001b[0m\u001b[1;33m.\u001b[0m\u001b[0mcode\u001b[0m\u001b[1;33m,\u001b[0m \u001b[0me\u001b[0m\u001b[1;33m.\u001b[0m\u001b[0mmessage\u001b[0m\u001b[1;33m)\u001b[0m\u001b[1;33m,\u001b[0m \u001b[1;32mNone\u001b[0m\u001b[1;33m)\u001b[0m  \u001b[1;31m# pylint: disable=protected-access\u001b[0m\u001b[1;33m\u001b[0m\u001b[1;33m\u001b[0m\u001b[0m\n",
      "\u001b[1;31mKeyboardInterrupt\u001b[0m: "
     ]
    }
   ],
   "source": [
    "import keras\n",
    "from glob import glob\n",
    "\n",
    "# path = r'F:\\Nsynth\\stft\\train\\*.png'\n",
    "# path = \"../../nsynth-data/data/stft/train/*.png\"\n",
    "# batch_size = 16\n",
    "# nr_of_labels=11\n",
    "# gen = geenreet0r(path, batch_size, nr_of_labels)\n",
    "\n",
    "batch_size = 16\n",
    "img_height = 126\n",
    "img_width = 1025\n",
    "nr_of_labels=11\n",
    "\n",
    "model = keras.Sequential([\n",
    "    keras.layers.Input(shape=(126, 1025, 1)),\n",
    "    keras.layers.Conv2D(32, kernel_size=(3, 3), activation='relu'),\n",
    "    keras.layers.MaxPooling2D(pool_size=(3, 3)),\n",
    "    keras.layers.Conv2D(64, kernel_size=(3, 3), activation='relu'),\n",
    "    keras.layers.MaxPooling2D(pool_size=(3, 3)),\n",
    "    keras.layers.Conv2D(128, kernel_size=(3, 3), activation='relu'),\n",
    "    keras.layers.MaxPooling2D(pool_size=(3, 3)),\n",
    "    keras.layers.Flatten(),\n",
    "    keras.layers.Dense(512, activation='relu'),\n",
    "    keras.layers.Dense(nr_of_labels, activation='softmax'),\n",
    "])\n",
    "model.compile(loss='categorical_crossentropy', optimizer='adam', metrics='categorical_accuracy')\n",
    "\n",
    "model.summary()\n",
    "history = model.fit(x=train_ds, epochs=3, batch_size=batch_size, validation_data=test_ds, verbose=1)\n",
    "\n",
    "# plt.plot(history.history['val_categorical_accuracy'], label='Validation categorical accuracy')\n",
    "# plt.plot(history.history['categorical_accuracy'], label='Training categorical accuracy')\n",
    "# plt.legend()\n",
    "# plt.title('NSynth instrument Detection Performance')\n",
    "# plt.xlabel('Epochs')\n",
    "# plt.ylabel('Categorical accuracy')\n",
    "# plt.savefig('model')\n"
   ]
  },
  {
   "cell_type": "code",
   "execution_count": null,
   "id": "f92d5bee",
   "metadata": {},
   "outputs": [],
   "source": [
    "def load_sample(path):\n",
    "    img = tf.keras.preprocessing.image.load_img(path, color_mode=\"grayscale\")\n",
    "    img_array = keras.preprocessing.image.img_to_array(img)\n",
    "    label = get_label(path)\n",
    "    return img_array, label\n",
    "\n",
    "\n",
    "\n",
    "def get_label(path, label=\"instrument_family\"):\n",
    "    if label==\"pitch\":\n",
    "        return int(path.split('-')[2])\n",
    "\n",
    "    if label==\"instrument_family\":\n",
    "        switch = {\n",
    "            'bass': 0,\n",
    "            'brass': 1,\n",
    "            'flute': 2,\n",
    "            'guitar': 3,\n",
    "            'keyboard': 4,\n",
    "            'mallet': 5,\n",
    "            'organ': 6,\n",
    "            'reed': 7,\n",
    "            'string': 8,\n",
    "            'synth': 9, \n",
    "            'vocal': 10,        \n",
    "        }\n",
    "        filename = os.path.split(path)[1]\n",
    "        split = filename.split('_')\n",
    "        return switch[filename.split('_')[0]]\n",
    "    \n",
    "    if label==\"instrument\":\n",
    "        switch = {\n",
    "            'bass_acoustic': 0,\n",
    "            'bass_electronic': 1,\n",
    "            'bass_synthetic': 2,\n",
    "            'brass_acoustic': 3,\n",
    "            'brass_electronic': 4,\n",
    "            'brass_synthetic': 5,\n",
    "            'flute_acoustic': 6,\n",
    "            'flute_electronic': 7,\n",
    "            'flute_synthetic': 8,\n",
    "            'guitar_acoustic': 9,\n",
    "            'guitar_electronic': 10,\n",
    "            'guitar_synthetic': 11,\n",
    "            'keyboard_acoustic': 12,\n",
    "            'keyboard_electronic': 13,\n",
    "            'keyboard_synthetic': 14,\n",
    "            'mallet_acoustic': 15,\n",
    "            'mallet_electronic': 16,\n",
    "            'mallet_synthetic': 17,\n",
    "            'organ_acoustic': 18,\n",
    "            'organ_electronic': 19,\n",
    "            'organ_synthetic': 20,\n",
    "            'reed_acoustic': 21,\n",
    "            'reed_electronic': 22,\n",
    "            'reed_synthetic': 23,\n",
    "            'string_acoustic': 24,\n",
    "            'string_electronic': 25,\n",
    "            'string_synthetic': 26,\n",
    "            'synth_lead_acoustic': 27,\n",
    "            'synth_lead_electronic': 28,\n",
    "            'synth_lead_synthetic': 29,\n",
    "            'vocal_acoustic': 30,\n",
    "            'vocal_electronic': 31,\n",
    "            'vocal_synthetic': 32,\n",
    "            \n",
    "        } \n",
    "        filename = os.path.split(path)[1]\n",
    "        split = filename.split('_')\n",
    "        if split[0] == \"synth\":\n",
    "            res = split[0] + \"_\" + split[1] + \"_\" + split[2]\n",
    "        else:\n",
    "            res = split[0] + \"_\" + split[1]\n",
    "        return switch[res]\n",
    "    \n",
    "\n",
    "def reset(batch_size, nr_of_labels=128):\n",
    "    imgs = np.zeros((batch_size, 126, 1025, 1))\n",
    "    labels = np.zeros((batch_size, nr_of_labels))\n",
    "    return imgs, labels\n",
    "\n",
    "def geenreet0r(path, batch_size, nr_of_labels=128):\n",
    "    files = glob(path)\n",
    "    random.shuffle(files)\n",
    "    imgs, labels = reset(batch_size, nr_of_labels)\n",
    "    for i, file in enumerate(files):\n",
    "        in_batch_id = i % batch_size\n",
    "        if i > 0 and in_batch_id == 0:\n",
    "            # Send last batch\n",
    "            yield imgs, labels\n",
    "            imgs, labels = reset(batch_size, nr_of_labels)\n",
    "        img, label = load_sample(file)\n",
    "        imgs[in_batch_id] = img\n",
    "        labels[in_batch_id, label] = 1  # Dummy coding\n",
    "    else:\n",
    "        # Shut down generator\n",
    "        # TODO: return final batch?\n",
    "        return None"
   ]
  },
  {
   "cell_type": "code",
   "execution_count": null,
   "id": "899ad9fe",
   "metadata": {},
   "outputs": [],
   "source": []
  }
 ],
 "metadata": {
  "kernelspec": {
   "display_name": "Python 3",
   "language": "python",
   "name": "python3"
  },
  "language_info": {
   "codemirror_mode": {
    "name": "ipython",
    "version": 3
   },
   "file_extension": ".py",
   "mimetype": "text/x-python",
   "name": "python",
   "nbconvert_exporter": "python",
   "pygments_lexer": "ipython3",
   "version": "3.7.10"
  }
 },
 "nbformat": 4,
 "nbformat_minor": 5
}
