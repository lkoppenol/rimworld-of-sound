{
 "cells": [
  {
   "cell_type": "markdown",
   "id": "c5eea10f",
   "metadata": {},
   "source": [
    "# Import libraries"
   ]
  },
  {
   "cell_type": "code",
   "execution_count": 38,
   "id": "d9cb73f7",
   "metadata": {},
   "outputs": [],
   "source": [
    "import numpy as np\n",
    "import os\n",
    "import PIL\n",
    "import PIL.Image\n",
    "import tensorflow as tf\n",
    "import pathlib\n",
    "import sys\n",
    "\n",
    "module_path = os.path.abspath(os.path.join('..'))\n",
    "if module_path not in sys.path:\n",
    "    sys.path.append(module_path)\n",
    "    \n",
    "from rimworld.utils import read_metadata #, one_hot_encode"
   ]
  },
  {
   "cell_type": "code",
   "execution_count": 156,
   "id": "5068fef8",
   "metadata": {},
   "outputs": [],
   "source": [
    "# Ik wil deze gewoon importen van utils maar dat mag niet om een of andere reden.\n",
    "\n",
    "\n",
    "def one_hot_encode(lst: np.ndarray, classes = 11):\n",
    "    one_hot_encoded = np.zeros((lst.size, classes), dtype=int)\n",
    "    one_hot_encoded[np.arange(lst.size), lst] = 1\n",
    "    \n",
    "    return one_hot_encoded.tolist()"
   ]
  },
  {
   "cell_type": "markdown",
   "id": "6c7ae613",
   "metadata": {},
   "source": [
    "# Get train STFT data and labels (Nsynth JSON data)"
   ]
  },
  {
   "cell_type": "code",
   "execution_count": 157,
   "id": "d71e205a",
   "metadata": {},
   "outputs": [],
   "source": [
    "data_dir = \"../../nsynth-data/data/stft/train_data/\"\n",
    "train_data_dir = pathlib.Path(data_dir)\n",
    "\n",
    "label_dir = \"../../nsynth-data/data/nsynth-train/\"\n",
    "train_jsondata = read_metadata(label_dir).sort_index()\n",
    "labels = train_jsondata.instrument_family"
   ]
  },
  {
   "cell_type": "markdown",
   "id": "ac25a648",
   "metadata": {},
   "source": [
    "\n",
    "# Get test STFT data and labels"
   ]
  },
  {
   "cell_type": "code",
   "execution_count": 158,
   "id": "a37c1566",
   "metadata": {},
   "outputs": [],
   "source": [
    "data_dir = \"../../nsynth-data/data/stft/test_data\"\n",
    "test_data_dir = pathlib.Path(data_dir)\n",
    "\n",
    "label_dir = \"../../nsynth-data/data/nsynth-test\"\n",
    "test_jsondata = read_metadata(label_dir).sort_index()\n",
    "test_labels = test_jsondata.instrument_family"
   ]
  },
  {
   "cell_type": "markdown",
   "id": "78c12ac3",
   "metadata": {},
   "source": [
    "# View image for inspection"
   ]
  },
  {
   "cell_type": "code",
   "execution_count": 159,
   "id": "22b7c530",
   "metadata": {},
   "outputs": [
    {
     "data": {
      "image/png": "[encoded data removed]",
      "text/plain": [
       "<PIL.PngImagePlugin.PngImageFile image mode=RGBA size=1025x126 at 0x1FDF2A25B88>"
      ]
     },
     "execution_count": 159,
     "metadata": {},
     "output_type": "execute_result"
    }
   ],
   "source": [
    "bass_acoustic = list(train_data_dir.glob('*/bass_acoustic*'))\n",
    "PIL.Image.open(str(bass_acoustic[100]))\n"
   ]
  },
  {
   "cell_type": "code",
   "execution_count": 160,
   "id": "ab01a260",
   "metadata": {},
   "outputs": [
    {
     "name": "stdout",
     "output_type": "stream",
     "text": [
      "(126, 1025, 4)\n"
     ]
    }
   ],
   "source": [
    "import imageio\n",
    "\n",
    "im = imageio.imread(str(bass_acoustic[100]))\n",
    "print(im.shape)"
   ]
  },
  {
   "cell_type": "markdown",
   "id": "7024774b",
   "metadata": {
    "pycharm": {
     "name": "#%% md\n"
    }
   },
   "source": [
    "# View JSON-data and labels\n",
    "\n"
   ]
  },
  {
   "cell_type": "code",
   "execution_count": 161,
   "id": "127cad0d",
   "metadata": {
    "pycharm": {
     "name": "#%%\n"
    }
   },
   "outputs": [
    {
     "data": {
      "text/plain": [
       "bass_acoustic_000-024-025       0\n",
       "bass_acoustic_000-024-050       0\n",
       "bass_acoustic_000-024-075       0\n",
       "bass_acoustic_000-024-100       0\n",
       "bass_acoustic_000-024-127       0\n",
       "                               ..\n",
       "vocal_synthetic_015-096-025    10\n",
       "vocal_synthetic_015-096-050    10\n",
       "vocal_synthetic_015-096-075    10\n",
       "vocal_synthetic_015-096-100    10\n",
       "vocal_synthetic_015-096-127    10\n",
       "Name: instrument_family, Length: 289205, dtype: int64"
      ]
     },
     "execution_count": 161,
     "metadata": {},
     "output_type": "execute_result"
    }
   ],
   "source": [
    "labels"
   ]
  },
  {
   "cell_type": "code",
   "execution_count": 162,
   "id": "4fe136b2",
   "metadata": {},
   "outputs": [
    {
     "name": "stdout",
     "output_type": "stream",
     "text": [
      "289205\n"
     ]
    },
    {
     "data": {
      "text/plain": [
       "[[WindowsPath('../../nsynth-data/data/stft/train_data/train/bass_acoustic_000-024-025.wav.png'),\n",
       "  WindowsPath('../../nsynth-data/data/stft/train_data/train/bass_acoustic_000-024-050.wav.png'),\n",
       "  WindowsPath('../../nsynth-data/data/stft/train_data/train/bass_acoustic_000-024-075.wav.png'),\n",
       "  WindowsPath('../../nsynth-data/data/stft/train_data/train/bass_acoustic_000-024-100.wav.png'),\n",
       "  WindowsPath('../../nsynth-data/data/stft/train_data/train/bass_acoustic_000-024-127.wav.png')],\n",
       " [WindowsPath('../../nsynth-data/data/stft/train_data/train/vocal_synthetic_015-096-025.wav.png'),\n",
       "  WindowsPath('../../nsynth-data/data/stft/train_data/train/vocal_synthetic_015-096-050.wav.png'),\n",
       "  WindowsPath('../../nsynth-data/data/stft/train_data/train/vocal_synthetic_015-096-075.wav.png'),\n",
       "  WindowsPath('../../nsynth-data/data/stft/train_data/train/vocal_synthetic_015-096-100.wav.png'),\n",
       "  WindowsPath('../../nsynth-data/data/stft/train_data/train/vocal_synthetic_015-096-127.wav.png')]]"
      ]
     },
     "execution_count": 162,
     "metadata": {},
     "output_type": "execute_result"
    }
   ],
   "source": [
    "images = list(train_data_dir.glob('train/*.png'))\n",
    "image_count = len(images)\n",
    "print(image_count)\n",
    "[images[0:5], images[-5:]]"
   ]
  },
  {
   "cell_type": "markdown",
   "id": "9a473d56",
   "metadata": {},
   "source": [
    "# Ensure x and y are the same size"
   ]
  },
  {
   "cell_type": "code",
   "execution_count": 163,
   "id": "5df309d6",
   "metadata": {},
   "outputs": [],
   "source": [
    "assert image_count == len(labels.values)"
   ]
  },
  {
   "cell_type": "markdown",
   "id": "4b589290",
   "metadata": {},
   "source": [
    "# One hot encode the labels"
   ]
  },
  {
   "cell_type": "code",
   "execution_count": 164,
   "id": "ffabf67e",
   "metadata": {},
   "outputs": [],
   "source": [
    "labels = one_hot_encode(labels)\n",
    "test_labels = one_hot_encode(test_labels)"
   ]
  },
  {
   "cell_type": "code",
   "execution_count": 165,
   "id": "cf9f21f8",
   "metadata": {},
   "outputs": [
    {
     "name": "stdout",
     "output_type": "stream",
     "text": [
      "289205\n",
      "289205\n"
     ]
    },
    {
     "data": {
      "text/plain": [
       "[1, 0, 0, 0, 0, 0, 0, 0, 0, 0, 0]"
      ]
     },
     "execution_count": 165,
     "metadata": {},
     "output_type": "execute_result"
    }
   ],
   "source": [
    "print(len(images))\n",
    "print(len(labels))\n",
    "labels[0]"
   ]
  },
  {
   "cell_type": "markdown",
   "id": "2c27be4c",
   "metadata": {},
   "source": [
    "# Load as train and val dataset with Keras\n"
   ]
  },
  {
   "cell_type": "code",
   "execution_count": 166,
   "id": "bed6ce13",
   "metadata": {
    "pycharm": {
     "name": "#%%\n"
    }
   },
   "outputs": [
    {
     "name": "stdout",
     "output_type": "stream",
     "text": [
      "Found 289205 files belonging to 1 classes.\n",
      "Found 4096 files belonging to 1 classes.\n"
     ]
    }
   ],
   "source": [
    "\n",
    "batch_size = 32\n",
    "img_height = 126\n",
    "img_width = 1025\n",
    "\n",
    "def gener(folder, batchsize = 32):\n",
    "    files = glob(os.path.join(folder, \"*.png\")\n",
    "    for file in files:\n",
    "        yield(file)\n",
    "    # miss nog iets met batches yielden?\n",
    "model.fit(gener('../data/'), ...)\n",
    "\n",
    "# train_ds = tf.keras.preprocessing.image_dataset_from_directory(\n",
    "#     train_data_dir, \n",
    "#     labels = labels,\n",
    "#     label_mode = 'categorical',\n",
    "#     image_size=(img_height, img_width),\n",
    "#     batch_size=batch_size,\n",
    "#     color_mode = 'rgba'\n",
    "# )\n",
    "\n",
    "# test_ds = tf.keras.preprocessing.image_dataset_from_directory(\n",
    "#     test_data_dir, \n",
    "#     labels = test_labels,\n",
    "#     label_mode = 'categorical',\n",
    "#     image_size=(img_height, img_width),\n",
    "#     batch_size=batch_size,\n",
    "#     color_mode = 'rgba'\n",
    "# )\n"
   ]
  },
  {
   "cell_type": "markdown",
   "id": "434c41ce",
   "metadata": {
    "pycharm": {
     "name": "#%% md\n"
    }
   },
   "source": [
    "\n",
    "batch_size = 32\n",
    "img_height = 126\n",
    "img_width = 1025\n",
    "\n",
    "train_ds = tf.keras.preprocessing.image_dataset_from_directory(\n",
    "    train_data_dir, \n",
    "    labels = labels,\n",
    "    image_size=(img_height, img_width),\n",
    "    batch_size=batch_size)"
   ]
  },
  {
   "cell_type": "code",
   "execution_count": null,
   "id": "b4ca7e34",
   "metadata": {},
   "outputs": [],
   "source": []
  }
 ],
 "metadata": {
  "kernelspec": {
   "display_name": "Python 3",
   "language": "python",
   "name": "python3"
  },
  "language_info": {
   "codemirror_mode": {
    "name": "ipython",
    "version": 3
   },
   "file_extension": ".py",
   "mimetype": "text/x-python",
   "name": "python",
   "nbconvert_exporter": "python",
   "pygments_lexer": "ipython3",
   "version": "3.7.10"
  }
 },
 "nbformat": 4,
 "nbformat_minor": 5
}
