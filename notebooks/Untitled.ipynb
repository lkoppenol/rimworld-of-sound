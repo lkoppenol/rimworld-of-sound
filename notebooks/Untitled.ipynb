{
 "cells": [
  {
   "cell_type": "code",
   "execution_count": 8,
   "id": "chemical-vehicle",
   "metadata": {},
   "outputs": [
    {
     "data": {
      "text/plain": [
       "RimSound(raw_audio=WindowsPath('data/nsynth-test/audio/bass_electronic_018-022-100.wav'), sample_rate=16000, n_fft=2048)"
      ]
     },
     "execution_count": 8,
     "metadata": {},
     "output_type": "execute_result"
    }
   ],
   "source": [
    "import os\n",
    "import sys\n",
    "module_path = os.path.abspath(os.path.join('..'))\n",
    "if module_path not in sys.path:\n",
    "    sys.path.append(module_path)\n",
    "    \n",
    "from rimworld import rimjobs, rimsound\n",
    "from pathlib import Path\n",
    "\n",
    "path = Path(f\"./data/nsynth-test/audio/bass_electronic_018-022-100.wav\")\n",
    "\n",
    "audio_cls = rimsound.RimSound.from_wav(path, 16000)\n",
    "\n",
    "audio_cls\n",
    "# # TODO: what is best n_fft and what is n_fft uberhaupt?\n",
    "# lekkere_columns = ['instrument', 'pitch', 'velocity']\n",
    "# spectra = rimjobs.create_spectrum_dataset(\n",
    "#     data_folder,\n",
    "#     n_fft=2048,\n",
    "#     metadata_columns=lekkere_columns\n",
    "# )\n",
    "\n",
    "# spectra.to_csv(f'data/generated/dataset_{data_type}.csv')"
   ]
  },
  {
   "cell_type": "code",
   "execution_count": null,
   "id": "chicken-update",
   "metadata": {},
   "outputs": [],
   "source": []
  }
 ],
 "metadata": {
  "kernelspec": {
   "display_name": "Python 3",
   "language": "python",
   "name": "python3"
  },
  "language_info": {
   "codemirror_mode": {
    "name": "ipython",
    "version": 3
   },
   "file_extension": ".py",
   "mimetype": "text/x-python",
   "name": "python",
   "nbconvert_exporter": "python",
   "pygments_lexer": "ipython3",
   "version": "3.7.10"
  }
 },
 "nbformat": 4,
 "nbformat_minor": 5
}
