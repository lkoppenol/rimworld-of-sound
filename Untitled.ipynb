{
 "cells": [
  {
   "cell_type": "code",
   "execution_count": 9,
   "id": "c77639e5-1fcd-4d59-918e-260900e06fc7",
   "metadata": {},
   "outputs": [
    {
     "data": {
      "image/png": "[encoded data removed]",
      "text/plain": [
       "<Figure size 432x288 with 1 Axes>"
      ]
     },
     "metadata": {},
     "output_type": "display_data"
    }
   ],
   "source": [
    "from glob import glob\n",
    "import os\n",
    "\n",
    "import librosa\n",
    "import librosa.display\n",
    "import numpy as np\n",
    "import pandas as pd\n",
    "from dotenv import load_dotenv\n",
    "import matplotlib.pyplot as plt\n",
    "\n",
    "load_dotenv()\n",
    "sr = 16000\n",
    "\n",
    "\n",
    "ds = 'train'\n",
    "\n",
    "pattern = f'{os.getenv(\"TRAIN_SOUNDS_FOLDER\")}/*'\n",
    "paths = glob(pattern)\n",
    "\n",
    "a, _ = librosa.load(paths[0], sr)\n",
    "s = librosa.feature.melspectrogram(a, sr=sr, n_mels=64, fmin=20, fmax=8000)\n",
    "M_db = librosa.power_to_db(s, ref=np.max)\n",
    "img = librosa.display.specshow(M_db, cmap='gray_r')\n",
    "#f = librosa.mel_frequencies(n_mels=64, fmin=20, fmax=8000)\n",
    "# _, filename = os.path.split(path)\n",
    "#     return {v: k for k, v in zip([filename] + list(s_abs), ['filename'] + list(f))}\n",
    "\n",
    "\n",
    "\n",
    "# specs = [get_fft(path) for path in paths]\n",
    "# pd.DataFrame.from_records(specs).to_csv(f'{os.getenv(\"MEL_FREQS_ROOT\")}.csv', index=False)"
   ]
  },
  {
   "cell_type": "code",
   "execution_count": null,
   "id": "fcb3255b-ae90-4206-a99b-7855774456b9",
   "metadata": {},
   "outputs": [],
   "source": []
  }
 ],
 "metadata": {
  "kernelspec": {
   "display_name": "Python 3",
   "language": "python",
   "name": "python3"
  },
  "language_info": {
   "codemirror_mode": {
    "name": "ipython",
    "version": 3
   },
   "file_extension": ".py",
   "mimetype": "text/x-python",
   "name": "python",
   "nbconvert_exporter": "python",
   "pygments_lexer": "ipython3",
   "version": "3.7.10"
  }
 },
 "nbformat": 4,
 "nbformat_minor": 5
}
